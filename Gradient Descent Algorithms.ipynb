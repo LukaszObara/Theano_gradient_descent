{
 "cells": [
  {
   "cell_type": "markdown",
   "metadata": {},
   "source": [
    "# A Brief Demonstration of Varies Gradient Descents Algorithms Using Theano. "
   ]
  },
  {
   "cell_type": "markdown",
   "metadata": {},
   "source": [
    "For simplicity we will be applying varies descent algorithms on a linear regression problem. We begin by creating a helper function that will allow us to create data in $\\mathbb{R}^3$. "
   ]
  },
  {
   "cell_type": "code",
   "execution_count": 1,
   "metadata": {
    "collapsed": false
   },
   "outputs": [],
   "source": [
    "%matplotlib inline\n",
    "\n",
    "import matplotlib.pyplot as plt\n",
    "import matplotlib\n",
    "import numpy as np\n",
    "from sklearn import linear_model\n",
    "from sklearn.model_selection import train_test_split\n",
    "\n",
    "rng = np.random.RandomState(196)\n",
    "\n",
    "def gen_data(num_points=196, slope1=1, slope2=1, slope3=1, bias=10, x_max=100):\n",
    "    weights = np.array([slope1, slope2, slope3], dtype=np.float32)\n",
    "    f = lambda x: np.dot(weights, x.T) + bias\n",
    "    data = np.zeros(shape=(num_points, 4), dtype=np.float32)\n",
    "\n",
    "    for i in range(num_points):\n",
    "        x_values = rng.uniform(low=0, high=1.0, size=(1, 3)) * x_max\n",
    "        y_value = f(x_values) + rng.normal(scale=3.0)\n",
    "        data[i, :-1] = x_values\n",
    "        data[i, -1] = y_value\n",
    "\n",
    "    return data"
   ]
  },
  {
   "cell_type": "markdown",
   "metadata": {},
   "source": [
    "We randomly choose our slopes to be $slope1 = -1, slope2 = 2, slope3 = 1$ and display some of the results."
   ]
  },
  {
   "cell_type": "code",
   "execution_count": 2,
   "metadata": {
    "collapsed": false
   },
   "outputs": [
    {
     "name": "stdout",
     "output_type": "stream",
     "text": [
      "[[  68.95092773   57.79753876    4.96865654   61.70221329]\n",
      " [  40.92610931   75.10242462   51.93205643  167.21731567]\n",
      " [  98.33483887   97.13296509   35.00722885  146.00294495]\n",
      " [  23.24506378   43.75597382   58.97801971  137.05874634]\n",
      " [  44.54161453   63.20769882   92.87348938  183.66407776]]\n"
     ]
    }
   ],
   "source": [
    "data = gen_data(slope1=-1, slope2=2, slope3=1)\n",
    "print(data[:5]) # First 5 data points"
   ]
  },
  {
   "cell_type": "markdown",
   "metadata": {},
   "source": [
    "We proceed by dividing the data into a training set and validation set. To verify that everything is working correctly we use `linear_model.LinearRegression()` which is previously imported from `sklearn`."
   ]
  },
  {
   "cell_type": "code",
   "execution_count": 4,
   "metadata": {
    "collapsed": false
   },
   "outputs": [
    {
     "name": "stdout",
     "output_type": "stream",
     "text": [
      "The weights are [-0.99991047  2.0103395   1.01298428], and the bias is 8.567138083903501\n"
     ]
    }
   ],
   "source": [
    "training_data, validation_data = train_test_split(data, test_size=68, random_state=45)\n",
    "# using sklearn to predict the weights and bias\n",
    "\n",
    "inputs = training_data[:, :-1]\n",
    "results = training_data[:, -1]\n",
    "reg = linear_model.LinearRegression()\n",
    "reg.fit(inputs, results)\n",
    "print('The weights are {}, and the bias is {}'.format(reg.coef_, reg.intercept_))"
   ]
  },
  {
   "cell_type": "markdown",
   "metadata": {},
   "source": [
    "## Gradient descents using Theano"
   ]
  },
  {
   "cell_type": "code",
   "execution_count": 5,
   "metadata": {
    "collapsed": false
   },
   "outputs": [
    {
     "name": "stderr",
     "output_type": "stream",
     "text": [
      "DEBUG: nvcc STDOUT mod.cu\n",
      "   Creating library C:/Users/lukas/AppData/Local/Theano/compiledir_Windows-10-10.0.14393-SP0-Intel64_Family_6_Model_78_Stepping_3_GenuineIntel-3.5.2-64/tmpubpqi2ky/m91973e5c136ea49268a916ff971b7377.lib and object C:/Users/lukas/AppData/Local/Theano/compiledir_Windows-10-10.0.14393-SP0-Intel64_Family_6_Model_78_Stepping_3_GenuineIntel-3.5.2-64/tmpubpqi2ky/m91973e5c136ea49268a916ff971b7377.exp\n",
      "\n",
      "Using gpu device 0: GeForce 940M (CNMeM is enabled with initial size: 75.0% of memory, cuDNN 5005)\n"
     ]
    }
   ],
   "source": [
    "import theano\n",
    "import theano.tensor as T"
   ]
  },
  {
   "cell_type": "markdown",
   "metadata": {},
   "source": [
    "We began by importing the necessary modules. We define the symbolic variables below, since the data is given as a matrix and the output as a vector then we define them accordingly. The weights and bias are initialized randomly from a uniform distribution. We require to the weights and bias to be changed on each epoch, as such we declare them as shared variables."
   ]
  },
  {
   "cell_type": "code",
   "execution_count": 6,
   "metadata": {
    "collapsed": false
   },
   "outputs": [],
   "source": [
    "rng = np.random.RandomState(1945)\n",
    "\n",
    "# Paramater initialization\n",
    "# Symbolic variable\n",
    "X = T.matrix(name='X', dtype=theano.config.floatX)\n",
    "y = T.vector(name='y', dtype=theano.config.floatX)\n",
    "lr = T.scalar(name='learn_rate', dtype=theano.config.floatX)\n",
    "\n",
    "# Variables that will be updated, hence are declared as `theano.share`\n",
    "theta = theano.shared(name='theta', \n",
    "                      value=rng.uniform(-1, 1, size=(3))\n",
    "                        .astype(theano.config.floatX))\n",
    "bias = theano.shared(name='bias',\n",
    "                     value=rng.uniform(0, 20, size=(1, 1))\n",
    "                        .astype(theano.config.floatX),\n",
    "                     broadcastable=(False, True))"
   ]
  },
  {
   "cell_type": "markdown",
   "metadata": {},
   "source": [
    "### Feed forward"
   ]
  },
  {
   "cell_type": "markdown",
   "metadata": {},
   "source": [
    "To feed the data forward <b>in this case</b> all that needs to be done is to introduce a cost function. We begin by specifying a cost and creating `cost_f` which will create a theano function that takes in our data (which is symbolically defined to be $X$)  and our results (which is symbolically defined to be $y$) and outputs the cost. `allow_input_downcast=True` will downcast our 64-bit values into 32-bits.   "
   ]
  },
  {
   "cell_type": "code",
   "execution_count": 7,
   "metadata": {
    "collapsed": true
   },
   "outputs": [],
   "source": [
    "# Feedforward Pass\n",
    "cost = T.mean((T.dot(theta, X.T) + bias - y)**2)/2\n",
    "\n",
    "cost_f = theano.function(inputs=[X, y], outputs=cost,\n",
    "                         allow_input_downcast=True)"
   ]
  },
  {
   "cell_type": "markdown",
   "metadata": {},
   "source": [
    "The advantage of using Theano is that it computes the gradients for us. We simply need to specify the function and the paramaters we are diferenting with restpect to. \n",
    "\n",
    "In our case we begin by defining the paramaters that we want to take the gradient with respect to, namely `theta` and `bias`. We proceed by taking the gradient of the cost function with respect to those paramaters and finally specifying how to change `theta` and `bias` (for simplicity we will be applying <b>vanilla gradient descent</b> and different approaches are presented near the end)."
   ]
  },
  {
   "cell_type": "code",
   "execution_count": 8,
   "metadata": {
    "collapsed": true
   },
   "outputs": [],
   "source": [
    "params = [theta, bias]\n",
    "# Backward Pass\n",
    "gradients = T.grad(cost, wrt=params)\n",
    "updates = [(p, p-lr*g) for p, g in zip(params, gradients)]"
   ]
  },
  {
   "cell_type": "markdown",
   "metadata": {},
   "source": [
    "The final stage before building our model is to declare a training function and validation function. In our case `val_cost` is the same as `cost_f` but this is not always the case and for completeness we include it here. \n",
    "\n",
    "`train` takes in our data, our results, and our learning rate as its inputs, since we want it to output our `cost` we set it `outputs=cost`, finally we specify how we want our shared variables `weights` and `bias` to be <b>updated</b> after every iteration.   "
   ]
  },
  {
   "cell_type": "code",
   "execution_count": 9,
   "metadata": {
    "collapsed": true
   },
   "outputs": [],
   "source": [
    "# Theano functions\n",
    "train = theano.function(inputs=[X, y, lr], outputs=cost,\n",
    "                        updates=updates,\n",
    "                        allow_input_downcast=True)\n",
    "\n",
    "val_cost = theano.function(inputs=[X, y], outputs=cost,\n",
    "                           allow_input_downcast=True)"
   ]
  },
  {
   "cell_type": "markdown",
   "metadata": {},
   "source": [
    "### Building the model"
   ]
  },
  {
   "cell_type": "markdown",
   "metadata": {},
   "source": [
    "Our model needs to take in the training data, the validation data, a learing rate, and the total number of epochs. We will also include arguments for mini batch size and a variation of early stopping which takes into account the mean of the previous values before determining whether to continue. "
   ]
  },
  {
   "cell_type": "code",
   "execution_count": 12,
   "metadata": {
    "collapsed": true
   },
   "outputs": [],
   "source": [
    "# Main model \n",
    "def train_model(training_data, validation_data=None, learning_rate= 0.0001,\n",
    "                epochs=100, mini_batch_size=20, patience=3, tolerance=0.05,\n",
    "                display_results=True):\n",
    "\n",
    "    total_values = len(training_data)\n",
    "    # Best results\n",
    "    best_loss_train, best_loss_val = np.inf, np.inf\n",
    "    best_weights_train, best_weights_val = None, None\n",
    "    best_bias_train, best_bias_val = None, None\n",
    "    iteration_train, iteration_val = None, None\n",
    "    # Average validation loss, used for early stoppign\n",
    "    val_loss_list = np.zeros(patience)\n",
    "\n",
    "    training_losses, validation_losses = [], []\n",
    "\n",
    "    for epoch in range(epochs):\n",
    "        np.random.shuffle(training_data)\n",
    "        mini_batches = [training_data[k: k+mini_batch_size]\n",
    "                        for k in range(0, total_values, mini_batch_size)]\n",
    "\n",
    "        av_loss = 0 \n",
    "\n",
    "        for mini_batch in mini_batches:\n",
    "            inputs = mini_batch[:, :-1]\n",
    "            outputs = mini_batch[:, -1] # this gives it shape (n, ) instead of (n, 1)\n",
    "\n",
    "            train_loss = train(inputs, outputs, learning_rate)\n",
    "            av_loss += train_loss/len(mini_batch)\n",
    "\n",
    "        training_losses.append(av_loss)\n",
    "\n",
    "        if np.any(validation_data):\n",
    "            val_input = validation_data[:, :-1]\n",
    "            val_output = validation_data[:, -1]\n",
    "\n",
    "            val_loss = val_cost(val_input, val_output)\n",
    "            validation_losses.append(val_loss)\n",
    "\n",
    "            if val_loss < best_loss_val:\n",
    "                best_loss_val = val_loss\n",
    "                best_weights_val = theta\n",
    "                best_bias_val = bias\n",
    "                iteration_val = epoch\n",
    "\n",
    "            val_loss_list[:-1] = val_loss_list[1:]\n",
    "            val_loss_list[-1] = val_loss\n",
    "\n",
    "            if (patience > 0 and\n",
    "                epoch > patience and\n",
    "                (np.mean(val_loss_list)/best_loss_val)-1 < tolerance):\n",
    "\n",
    "                if display_results:\n",
    "                    print('Breaking on epoch: {}, returning a loss: {}'\n",
    "                          .format(epoch, val_loss))\n",
    "                    print(best_weights_val.get_value(), best_bias_val.get_value())\n",
    "                    print('---------------')\n",
    "                break\n",
    "\n",
    "        if av_loss < best_loss_train:\n",
    "            best_loss_train = av_loss\n",
    "            best_weights_train = theta\n",
    "            best_bias_train = bias\n",
    "            iteration_train = epoch\n",
    "\n",
    "    if display_results:\n",
    "        print('The best validation result occured on epoch: {}, resulting in a'\n",
    "              ' loss of {} and yielding weights of {} and a bias of: {}'\\\n",
    "              .format(iteration_val, best_loss_val, \n",
    "                      best_weights_val.get_value(), best_bias_val.get_value()))\n",
    "        print('==============================================================')\n",
    "        print('The best training result occured on epoch: {}, resulting in a '\n",
    "              'loss of {} and yielding weights of {} and a bias of: {}'\\\n",
    "              .format(iteration_train, best_loss_train, \n",
    "                      best_weights_train.get_value(), \n",
    "                      best_bias_train.get_value()))\n",
    "\n",
    "    return training_losses, validation_losses, epoch"
   ]
  },
  {
   "cell_type": "markdown",
   "metadata": {},
   "source": [
    "#### Running the model"
   ]
  },
  {
   "cell_type": "code",
   "execution_count": 13,
   "metadata": {
    "collapsed": false
   },
   "outputs": [
    {
     "name": "stdout",
     "output_type": "stream",
     "text": [
      "Breaking on epoch: 8, returning a loss: 5.1543869972229\n",
      "[-0.97655553  2.01807594  1.02726543] [[ 7.05619812]]\n",
      "---------------\n",
      "The best validation result occured on epoch: 8, resulting in a loss of 5.1543869972229 and yielding weights of [-0.97655553  2.01807594  1.02726543] and a bias of: [[ 7.05619812]]\n",
      "==============================================================\n",
      "The best training result occured on epoch: 7, resulting in a loss of 2.026739329099655 and yielding weights of [-0.97655553  2.01807594  1.02726543] and a bias of: [[ 7.05619812]]\n"
     ]
    }
   ],
   "source": [
    "t_loss, v_loss, _ = train_model(training_data, validation_data, learning_rate= 0.0001)"
   ]
  },
  {
   "cell_type": "markdown",
   "metadata": {},
   "source": [
    "The model functions as expected, all that would remain is to cross validate our results with a test set."
   ]
  },
  {
   "cell_type": "markdown",
   "metadata": {},
   "source": [
    "#### Displaying the results"
   ]
  },
  {
   "cell_type": "code",
   "execution_count": 14,
   "metadata": {
    "collapsed": false
   },
   "outputs": [
    {
     "data": {
      "image/png": "[encoded data removed]",
      "text/plain": [
       "<matplotlib.figure.Figure at 0x28fdce6be10>"
      ]
     },
     "metadata": {},
     "output_type": "display_data"
    }
   ],
   "source": [
    "m = 1\n",
    "x = np.arange(len(t_loss[m:]))\n",
    "\n",
    "fig = plt.figure(figsize=(40, 20))\n",
    "ax = fig.add_subplot(1, 1, 1) \n",
    "                                   \n",
    "major_ticks_x = np.arange(0, 40, 10)                                              \n",
    "minor_ticks_x = np.arange(0, 40, 2)\n",
    "major_ticks_y = np.arange(0, 450, 50)                                              \n",
    "minor_ticks_y = np.arange(0, 450, 10)\n",
    "\n",
    "ax.set_xticks(major_ticks_x)                                                       \n",
    "ax.set_xticks(minor_ticks_x, minor=True)                                           \n",
    "ax.set_yticks(major_ticks_y)                                                       \n",
    "ax.set_yticks(minor_ticks_y, minor=True) \n",
    "\n",
    "ax.grid(which='both')\n",
    "ax.grid(which='minor', alpha=0.7)                                                \n",
    "ax.grid(which='major', alpha=1.0)    \n",
    "\n",
    "t_plot = plt.plot(x, t_loss[m:], label='Training Loss')\n",
    "v_plot = plt.plot(x, v_loss[m:], label='Validation Loss')                                            \n",
    "\n",
    "plt.legend(loc='upper right')\n",
    "plt.show()"
   ]
  },
  {
   "cell_type": "markdown",
   "metadata": {},
   "source": [
    "#### Using an ensemble"
   ]
  },
  {
   "cell_type": "markdown",
   "metadata": {},
   "source": [
    "Since the model is tiny we could run it multiple times in a relatively short period of time and average out the results for our `weights` and `bias`."
   ]
  },
  {
   "cell_type": "code",
   "execution_count": 16,
   "metadata": {
    "collapsed": false
   },
   "outputs": [
    {
     "name": "stdout",
     "output_type": "stream",
     "text": [
      "Ensemble weights: [-1.00074041  1.99638164  1.00512218], ensemble bias: [[ 10.45480061]], average number of epochs: 10.04\n"
     ]
    }
   ],
   "source": [
    "weights_ens, bias_ens, epochs = 0, 0, 0\n",
    "n = 50\n",
    "for i in range(n):\n",
    "    _, _, epoch = train_model(training_data, validation_data,\n",
    "                              display_results=False)\n",
    "\n",
    "    epochs += epoch\n",
    "\n",
    "    weights_ens += theta.get_value()\n",
    "    bias_ens += bias.get_value()\n",
    "\n",
    "    theta_reset = np.random.uniform(-1.0, 1.0, size=(3))\\\n",
    "                    .astype(theano.config.floatX)\n",
    "    bias_reset = np.random.uniform(0, 20.0, size=(1, 1))\\\n",
    "                        .astype(theano.config.floatX)\n",
    "    theta.set_value(theta_reset)\n",
    "    bias.set_value(bias_reset)\n",
    "\n",
    "print('Ensemble weights: {}, ensemble bias: {}, average number of epochs: {}'\n",
    "      .format(weights_ens/n, bias_ens/n, epochs/n))"
   ]
  },
  {
   "cell_type": "markdown",
   "metadata": {},
   "source": [
    "We see that that running our results yields a more accurate result to the true values."
   ]
  },
  {
   "cell_type": "markdown",
   "metadata": {},
   "source": [
    "## Different Descent Methods"
   ]
  },
  {
   "cell_type": "markdown",
   "metadata": {},
   "source": [
    "### Momentum and Nestorov momentum"
   ]
  },
  {
   "cell_type": "markdown",
   "metadata": {},
   "source": [
    "For momentum and Nestorov momentum we need to include a momentum paramater, in addition to velocities for the weights and biases. The only difference between the two is the update rule. Again since the velocities need to be changed after each epoch we declare them as `shared variables`."
   ]
  },
  {
   "cell_type": "code",
   "execution_count": 12,
   "metadata": {
    "collapsed": true
   },
   "outputs": [],
   "source": [
    "# Momentum and NAG parameters\n",
    "mu = T.scalar(name='momentum', dtype=theano.config.floatX)\n",
    "v_theta = theano.shared(name='velocity_theta', \n",
    "                        value=np.zeros(3, dtype=theano.config.floatX))\n",
    "v_bias = theano.shared(name='velocity_bias',\n",
    "                       value=np.zeros((1, 1), dtype=theano.config.floatX),\n",
    "                       broadcastable=(True, True))\n",
    "\n",
    "vel = [v_theta, v_bias]"
   ]
  },
  {
   "cell_type": "markdown",
   "metadata": {},
   "source": [
    "Update rule for <b>momentum</b> "
   ]
  },
  {
   "cell_type": "code",
   "execution_count": 13,
   "metadata": {
    "collapsed": true
   },
   "outputs": [],
   "source": [
    "def momentum_update(param, velocity, df):\n",
    "    v_next = mu * velocity - lr * df\n",
    "    updates = (param, param+v_next), (velocity, v_next)\n",
    "\n",
    "    return updates"
   ]
  },
  {
   "cell_type": "markdown",
   "metadata": {},
   "source": [
    "Update rule for <b>Nestorov momentum</b>"
   ]
  },
  {
   "cell_type": "code",
   "execution_count": 14,
   "metadata": {
    "collapsed": false
   },
   "outputs": [],
   "source": [
    "def nag_update(param, velocity, df):\n",
    "    v_prev = velocity\n",
    "    v = mu * velocity - lr * df\n",
    "    x = mu * v_prev + (1-mu) * v\n",
    "    updates = (param, param+x), (velocity, v)\n",
    "\n",
    "    return updates"
   ]
  },
  {
   "cell_type": "markdown",
   "metadata": {},
   "source": [
    "Finally, in both cases the updates for all the paramaters are preformed as follows:"
   ]
  },
  {
   "cell_type": "code",
   "execution_count": 15,
   "metadata": {
    "collapsed": true
   },
   "outputs": [],
   "source": [
    "updates = []\n",
    "for p, v, g in zip(params, vel, gradients):\n",
    "    param_updates, vel_updates = momentum_update(p, v, g) # or nag_update\n",
    "    updates.append(param_updates)\n",
    "    updates.append(vel_updates)"
   ]
  },
  {
   "cell_type": "markdown",
   "metadata": {},
   "source": [
    "#### ADAGrad and RMSProp "
   ]
  },
  {
   "cell_type": "markdown",
   "metadata": {},
   "source": [
    "ADAGrad and RMSProp are very similar, the difference being that RMSProp has a decay rate. Both methods used historical gradient information to help with convergence"
   ]
  },
  {
   "cell_type": "code",
   "execution_count": 16,
   "metadata": {
    "collapsed": true
   },
   "outputs": [],
   "source": [
    "eps = T.scalar(name='eps', dtype=theano.config.floatX)\n",
    "dr = T.scalar(name='decay_rate', dtype=theano.config.floatX) # only for RMSProp\n",
    "\n",
    "# Cache\n",
    "cache_theta = theano.shared(name='cache_theta', \n",
    "                            value=np.zeros(3, dtype=theano.config.floatX))\n",
    "cache_bias = theano.shared(name='cache_bias',\n",
    "                           value=np.zeros((1, 1), dtype=theano.config.floatX),\n",
    "                           broadcastable=(False, True))\n",
    "\n",
    "caches = [cache_theta, cache_bias]"
   ]
  },
  {
   "cell_type": "markdown",
   "metadata": {},
   "source": [
    "update rule for <b>ADAGrad</b>"
   ]
  },
  {
   "cell_type": "code",
   "execution_count": 17,
   "metadata": {
    "collapsed": true
   },
   "outputs": [],
   "source": [
    "def adagrad_update(param, cache, df):\n",
    "    cache_val = df**2\n",
    "    x = lr * df / (T.sqrt(cache_val) + eps)\n",
    "    updates = (param, param-x), (cache, cache+cache_val)\n",
    "\n",
    "    return updates"
   ]
  },
  {
   "cell_type": "markdown",
   "metadata": {},
   "source": [
    "update rule for <b>RMSProp</b>"
   ]
  },
  {
   "cell_type": "code",
   "execution_count": 18,
   "metadata": {
    "collapsed": true
   },
   "outputs": [],
   "source": [
    "def rmsprop_update(param, cache, df):\n",
    "    cache_val = dr * cache + (1-dr) * df**2\n",
    "    x = lr * df / (T.sqrt(cache_val) + eps)\n",
    "    updates = (param, param-x), (cache, cache_val)\n",
    "\n",
    "    return updates"
   ]
  },
  {
   "cell_type": "markdown",
   "metadata": {},
   "source": [
    "Finally, in both cases the updates for all the paramaters are preformed as follows:"
   ]
  },
  {
   "cell_type": "code",
   "execution_count": 19,
   "metadata": {
    "collapsed": false
   },
   "outputs": [],
   "source": [
    "updates = []\n",
    "for p, c, g in zip(params, caches, gradients):\n",
    "    param_updates, cache_updates = adagrad_update(p, c, g)\n",
    "    updates.append(param_updates)\n",
    "    updates.append(cache_updates)"
   ]
  },
  {
   "cell_type": "markdown",
   "metadata": {},
   "source": [
    "#### ADAM"
   ]
  },
  {
   "cell_type": "markdown",
   "metadata": {},
   "source": [
    "ADAM can be thought of as RMSProp with momentum."
   ]
  },
  {
   "cell_type": "code",
   "execution_count": 20,
   "metadata": {
    "collapsed": true
   },
   "outputs": [],
   "source": [
    "# ADAM Parameters\n",
    "beta1 = T.scalar(name='beta1', dtype=theano.config.floatX)\n",
    "beta2 = T.scalar(name='beta2', dtype=theano.config.floatX)\n",
    "eps = T.scalar(name='eps', dtype=theano.config.floatX)\n",
    "t = theano.shared(name='iteration', value=np.float32(1.0))\n",
    "one = T.constant(1)\n",
    "m_theta = theano.shared(name='moment_theta',\n",
    "                        value=np.zeros(3, dtype=theano.config.floatX))\n",
    "m_bias = theano.shared(name='moment_bias',\n",
    "                       value=np.zeros((1, 1), dtype=theano.config.floatX),\n",
    "                       broadcastable=(False, True))\n",
    "v_theta = theano.shared(name='velocity_theta',\n",
    "                        value=np.zeros(3, dtype=theano.config.floatX))\n",
    "v_bias = theano.shared(name='velocity_bias',\n",
    "                       value=np.zeros((1, 1), dtype=theano.config.floatX),\n",
    "                       broadcastable=(False, True))\n",
    "\n",
    "moments = [m_theta, m_bias]\n",
    "vel = [v_theta, v_bias]"
   ]
  },
  {
   "cell_type": "markdown",
   "metadata": {},
   "source": [
    "update rule for ADAM"
   ]
  },
  {
   "cell_type": "code",
   "execution_count": 21,
   "metadata": {
    "collapsed": true
   },
   "outputs": [],
   "source": [
    "def adam_update(param, moment, velocity, df):\n",
    "    m_t = beta1 * moment + (one-beta1) * df\n",
    "    v_t = beta2 * velocity + (one-beta2) * df**2\n",
    "    m_hat = m_t/(one-beta1**(t))\n",
    "    v_hat = v_t/(one-beta2**(t))\n",
    "    x = (lr * m_hat / (T.sqrt(v_hat) + eps))\n",
    "    updates = (param, param-x), (moment, m_t), (velocity, v_t)\n",
    "\n",
    "    return updates"
   ]
  },
  {
   "cell_type": "markdown",
   "metadata": {},
   "source": [
    "updating the paramaters:"
   ]
  },
  {
   "cell_type": "code",
   "execution_count": 22,
   "metadata": {
    "collapsed": false
   },
   "outputs": [],
   "source": [
    "updates = []\n",
    "for p, m, v, g in zip(params, moments, vel, gradients):\n",
    "    p_update, m_update, v_update = adam_update(p, m, v, g)\n",
    "    updates.append(p_update)\n",
    "    updates.append(m_update)\n",
    "    updates.append(v_update)\n",
    "updates.append((t, t+1))"
   ]
  },
  {
   "cell_type": "markdown",
   "metadata": {},
   "source": [
    "#### ADAMax"
   ]
  },
  {
   "cell_type": "markdown",
   "metadata": {},
   "source": [
    "ADAMax is a variation of ADAM using the inf-norm"
   ]
  },
  {
   "cell_type": "code",
   "execution_count": 19,
   "metadata": {
    "collapsed": true
   },
   "outputs": [],
   "source": [
    "# ADAMax Parameters\n",
    "beta1 = T.scalar(name='beta1', dtype=theano.config.floatX)\n",
    "beta2 = T.scalar(name='beta2', dtype=theano.config.floatX)\n",
    "t = theano.shared(name='iteration', value=np.float32(1.0))\n",
    "one = T.constant(1.0)\n",
    "m_theta = theano.shared(name='moment_theta',\n",
    "                        value=np.zeros(3, dtype=theano.config.floatX))\n",
    "m_bias = theano.shared(name='moment_bias',\n",
    "                       value=np.zeros((1,1), dtype=theano.config.floatX),\n",
    "                       broadcastable=(False, True))\n",
    "u_theta = theano.shared(name='up_theta',\n",
    "                        value=np.zeros(3, dtype=theano.config.floatX))\n",
    "u_bias = theano.shared(name='up_bias',\n",
    "                       value=np.zeros((1, 1), dtype=theano.config.floatX),\n",
    "                       broadcastable=(False, True))\n",
    "\n",
    "moments = [m_theta, m_bias]\n",
    "upd = [u_theta, u_bias]"
   ]
  },
  {
   "cell_type": "markdown",
   "metadata": {},
   "source": [
    "Update rule for ADAMax"
   ]
  },
  {
   "cell_type": "code",
   "execution_count": 20,
   "metadata": {
    "collapsed": true
   },
   "outputs": [],
   "source": [
    "def adamax_update(param, moment, u, df):\n",
    "    m_t = beta1 * moment + (one-beta1) * df\n",
    "    u_t = T.maximum(beta2*u, T.abs_(df))\n",
    "    x = (lr/(1-beta1**t)) * (m_t/u_t) \n",
    "    updates = (param, param-x), (moment, m_t), (u, u_t)\n",
    "\n",
    "    return updates"
   ]
  },
  {
   "cell_type": "markdown",
   "metadata": {},
   "source": [
    "Updating the parameters:"
   ]
  },
  {
   "cell_type": "code",
   "execution_count": 21,
   "metadata": {
    "collapsed": false
   },
   "outputs": [],
   "source": [
    "updates = []\n",
    "for p, m, u, g in zip(params, moments, upd, gradients):\n",
    "    p_update, m_update, u_update = adamax_update(p, m, u, g)\n",
    "    updates.append(p_update)\n",
    "    updates.append(m_update)\n",
    "    updates.append(u_update)\n",
    "updates.append((t, t+1))"
   ]
  },
  {
   "cell_type": "code",
   "execution_count": null,
   "metadata": {
    "collapsed": true
   },
   "outputs": [],
   "source": []
  }
 ],
 "metadata": {
  "anaconda-cloud": {},
  "kernelspec": {
   "display_name": "Python [conda root]",
   "language": "python",
   "name": "conda-root-py"
  },
  "language_info": {
   "codemirror_mode": {
    "name": "ipython",
    "version": 3
   },
   "file_extension": ".py",
   "mimetype": "text/x-python",
   "name": "python",
   "nbconvert_exporter": "python",
   "pygments_lexer": "ipython3",
   "version": "3.5.2"
  }
 },
 "nbformat": 4,
 "nbformat_minor": 1
}
